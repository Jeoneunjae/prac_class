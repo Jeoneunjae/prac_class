{
  "nbformat": 4,
  "nbformat_minor": 0,
  "metadata": {
    "colab": {
      "name": "Untitled5.ipynb",
      "provenance": [],
      "authorship_tag": "ABX9TyN5jjhrr6Qo1Jm4i6btkLY3",
      "include_colab_link": true
    },
    "kernelspec": {
      "name": "ir",
      "display_name": "R"
    }
  },
  "cells": [
    {
      "cell_type": "markdown",
      "metadata": {
        "id": "view-in-github",
        "colab_type": "text"
      },
      "source": [
        "<a href=\"https://colab.research.google.com/github/Jeoneunjae/prac_class/blob/main/HW1.ipynb\" target=\"_parent\"><img src=\"https://colab.research.google.com/assets/colab-badge.svg\" alt=\"Open In Colab\"/></a>"
      ]
    },
    {
      "cell_type": "code",
      "metadata": {
        "colab": {
          "base_uri": "https://localhost:8080/"
        },
        "id": "bD9j36yXujKX",
        "outputId": "4f893f45-7404-4a09-f75b-25ea2ba768b7"
      },
      "source": [
        "library(tidyverse)"
      ],
      "execution_count": 2,
      "outputs": [
        {
          "output_type": "stream",
          "text": [
            "Warning message in system(\"timedatectl\", intern = TRUE):\n",
            "“running command 'timedatectl' had status 1”\n",
            "── \u001b[1mAttaching packages\u001b[22m ─────────────────────────────────────── tidyverse 1.3.0 ──\n",
            "\n",
            "\u001b[32m✔\u001b[39m \u001b[34mggplot2\u001b[39m 3.3.3     \u001b[32m✔\u001b[39m \u001b[34mpurrr  \u001b[39m 0.3.4\n",
            "\u001b[32m✔\u001b[39m \u001b[34mtibble \u001b[39m 3.1.0     \u001b[32m✔\u001b[39m \u001b[34mdplyr  \u001b[39m 1.0.4\n",
            "\u001b[32m✔\u001b[39m \u001b[34mtidyr  \u001b[39m 1.1.3     \u001b[32m✔\u001b[39m \u001b[34mstringr\u001b[39m 1.4.0\n",
            "\u001b[32m✔\u001b[39m \u001b[34mreadr  \u001b[39m 1.4.0     \u001b[32m✔\u001b[39m \u001b[34mforcats\u001b[39m 0.5.1\n",
            "\n",
            "── \u001b[1mConflicts\u001b[22m ────────────────────────────────────────── tidyverse_conflicts() ──\n",
            "\u001b[31m✖\u001b[39m \u001b[34mdplyr\u001b[39m::\u001b[32mfilter()\u001b[39m masks \u001b[34mstats\u001b[39m::filter()\n",
            "\u001b[31m✖\u001b[39m \u001b[34mdplyr\u001b[39m::\u001b[32mlag()\u001b[39m    masks \u001b[34mstats\u001b[39m::lag()\n",
            "\n"
          ],
          "name": "stderr"
        }
      ]
    },
    {
      "cell_type": "code",
      "metadata": {
        "colab": {
          "base_uri": "https://localhost:8080/"
        },
        "id": "cAEp8caBvh4O",
        "outputId": "aa97484d-2d71-4b6b-cb46-831638c251c4"
      },
      "source": [
        "install.packages(\"nycflights13\")"
      ],
      "execution_count": 5,
      "outputs": [
        {
          "output_type": "stream",
          "text": [
            "Installing package into ‘/usr/local/lib/R/site-library’\n",
            "(as ‘lib’ is unspecified)\n",
            "\n"
          ],
          "name": "stderr"
        }
      ]
    },
    {
      "cell_type": "code",
      "metadata": {
        "id": "qQHpXfH2v6yi"
      },
      "source": [
        "library(nycflights13)"
      ],
      "execution_count": 9,
      "outputs": []
    },
    {
      "cell_type": "code",
      "metadata": {
        "id": "AAbVjANHwS_5"
      },
      "source": [
        "?nycflights13::flights"
      ],
      "execution_count": 11,
      "outputs": []
    },
    {
      "cell_type": "code",
      "metadata": {
        "colab": {
          "base_uri": "https://localhost:8080/"
        },
        "id": "kFH_8CV9wiB-",
        "outputId": "5fc73fb5-f99f-4d84-d92c-39536112dacf"
      },
      "source": [
        "str(nycflights13::flights)"
      ],
      "execution_count": 12,
      "outputs": [
        {
          "output_type": "stream",
          "text": [
            "tibble [336,776 × 19] (S3: tbl_df/tbl/data.frame)\n",
            " $ year          : int [1:336776] 2013 2013 2013 2013 2013 2013 2013 2013 2013 2013 ...\n",
            " $ month         : int [1:336776] 1 1 1 1 1 1 1 1 1 1 ...\n",
            " $ day           : int [1:336776] 1 1 1 1 1 1 1 1 1 1 ...\n",
            " $ dep_time      : int [1:336776] 517 533 542 544 554 554 555 557 557 558 ...\n",
            " $ sched_dep_time: int [1:336776] 515 529 540 545 600 558 600 600 600 600 ...\n",
            " $ dep_delay     : num [1:336776] 2 4 2 -1 -6 -4 -5 -3 -3 -2 ...\n",
            " $ arr_time      : int [1:336776] 830 850 923 1004 812 740 913 709 838 753 ...\n",
            " $ sched_arr_time: int [1:336776] 819 830 850 1022 837 728 854 723 846 745 ...\n",
            " $ arr_delay     : num [1:336776] 11 20 33 -18 -25 12 19 -14 -8 8 ...\n",
            " $ carrier       : chr [1:336776] \"UA\" \"UA\" \"AA\" \"B6\" ...\n",
            " $ flight        : int [1:336776] 1545 1714 1141 725 461 1696 507 5708 79 301 ...\n",
            " $ tailnum       : chr [1:336776] \"N14228\" \"N24211\" \"N619AA\" \"N804JB\" ...\n",
            " $ origin        : chr [1:336776] \"EWR\" \"LGA\" \"JFK\" \"JFK\" ...\n",
            " $ dest          : chr [1:336776] \"IAH\" \"IAH\" \"MIA\" \"BQN\" ...\n",
            " $ air_time      : num [1:336776] 227 227 160 183 116 150 158 53 140 138 ...\n",
            " $ distance      : num [1:336776] 1400 1416 1089 1576 762 ...\n",
            " $ hour          : num [1:336776] 5 5 5 5 6 5 6 6 6 6 ...\n",
            " $ minute        : num [1:336776] 15 29 40 45 0 58 0 0 0 0 ...\n",
            " $ time_hour     : POSIXct[1:336776], format: \"2013-01-01 05:00:00\" \"2013-01-01 05:00:00\" ...\n"
          ],
          "name": "stdout"
        }
      ]
    },
    {
      "cell_type": "code",
      "metadata": {
        "colab": {
          "base_uri": "https://localhost:8080/",
          "height": 721
        },
        "id": "0MBf9rjfw3Rz",
        "outputId": "5d139c25-03db-4615-e5ab-1af12427776a"
      },
      "source": [
        "summary(flights)"
      ],
      "execution_count": 14,
      "outputs": [
        {
          "output_type": "display_data",
          "data": {
            "text/plain": [
              "      year          month             day           dep_time    sched_dep_time\n",
              " Min.   :2013   Min.   : 1.000   Min.   : 1.00   Min.   :   1   Min.   : 106  \n",
              " 1st Qu.:2013   1st Qu.: 4.000   1st Qu.: 8.00   1st Qu.: 907   1st Qu.: 906  \n",
              " Median :2013   Median : 7.000   Median :16.00   Median :1401   Median :1359  \n",
              " Mean   :2013   Mean   : 6.549   Mean   :15.71   Mean   :1349   Mean   :1344  \n",
              " 3rd Qu.:2013   3rd Qu.:10.000   3rd Qu.:23.00   3rd Qu.:1744   3rd Qu.:1729  \n",
              " Max.   :2013   Max.   :12.000   Max.   :31.00   Max.   :2400   Max.   :2359  \n",
              "                                                 NA's   :8255                 \n",
              "   dep_delay          arr_time    sched_arr_time   arr_delay       \n",
              " Min.   : -43.00   Min.   :   1   Min.   :   1   Min.   : -86.000  \n",
              " 1st Qu.:  -5.00   1st Qu.:1104   1st Qu.:1124   1st Qu.: -17.000  \n",
              " Median :  -2.00   Median :1535   Median :1556   Median :  -5.000  \n",
              " Mean   :  12.64   Mean   :1502   Mean   :1536   Mean   :   6.895  \n",
              " 3rd Qu.:  11.00   3rd Qu.:1940   3rd Qu.:1945   3rd Qu.:  14.000  \n",
              " Max.   :1301.00   Max.   :2400   Max.   :2359   Max.   :1272.000  \n",
              " NA's   :8255      NA's   :8713                  NA's   :9430      \n",
              "   carrier              flight       tailnum             origin         \n",
              " Length:336776      Min.   :   1   Length:336776      Length:336776     \n",
              " Class :character   1st Qu.: 553   Class :character   Class :character  \n",
              " Mode  :character   Median :1496   Mode  :character   Mode  :character  \n",
              "                    Mean   :1972                                        \n",
              "                    3rd Qu.:3465                                        \n",
              "                    Max.   :8500                                        \n",
              "                                                                        \n",
              "     dest              air_time        distance         hour      \n",
              " Length:336776      Min.   : 20.0   Min.   :  17   Min.   : 1.00  \n",
              " Class :character   1st Qu.: 82.0   1st Qu.: 502   1st Qu.: 9.00  \n",
              " Mode  :character   Median :129.0   Median : 872   Median :13.00  \n",
              "                    Mean   :150.7   Mean   :1040   Mean   :13.18  \n",
              "                    3rd Qu.:192.0   3rd Qu.:1389   3rd Qu.:17.00  \n",
              "                    Max.   :695.0   Max.   :4983   Max.   :23.00  \n",
              "                    NA's   :9430                                  \n",
              "     minute        time_hour                  \n",
              " Min.   : 0.00   Min.   :2013-01-01 05:00:00  \n",
              " 1st Qu.: 8.00   1st Qu.:2013-04-04 13:00:00  \n",
              " Median :29.00   Median :2013-07-03 10:00:00  \n",
              " Mean   :26.23   Mean   :2013-07-03 05:22:54  \n",
              " 3rd Qu.:44.00   3rd Qu.:2013-10-01 07:00:00  \n",
              " Max.   :59.00   Max.   :2013-12-31 23:00:00  \n",
              "                                              "
            ]
          },
          "metadata": {
            "tags": []
          }
        }
      ]
    },
    {
      "cell_type": "code",
      "metadata": {
        "colab": {
          "base_uri": "https://localhost:8080/",
          "height": 721
        },
        "id": "LjZzMu8_w-eG",
        "outputId": "431c74c1-0035-473b-aa73-326863ce6fb3"
      },
      "source": [
        "flights %>% summary()"
      ],
      "execution_count": 15,
      "outputs": [
        {
          "output_type": "display_data",
          "data": {
            "text/plain": [
              "      year          month             day           dep_time    sched_dep_time\n",
              " Min.   :2013   Min.   : 1.000   Min.   : 1.00   Min.   :   1   Min.   : 106  \n",
              " 1st Qu.:2013   1st Qu.: 4.000   1st Qu.: 8.00   1st Qu.: 907   1st Qu.: 906  \n",
              " Median :2013   Median : 7.000   Median :16.00   Median :1401   Median :1359  \n",
              " Mean   :2013   Mean   : 6.549   Mean   :15.71   Mean   :1349   Mean   :1344  \n",
              " 3rd Qu.:2013   3rd Qu.:10.000   3rd Qu.:23.00   3rd Qu.:1744   3rd Qu.:1729  \n",
              " Max.   :2013   Max.   :12.000   Max.   :31.00   Max.   :2400   Max.   :2359  \n",
              "                                                 NA's   :8255                 \n",
              "   dep_delay          arr_time    sched_arr_time   arr_delay       \n",
              " Min.   : -43.00   Min.   :   1   Min.   :   1   Min.   : -86.000  \n",
              " 1st Qu.:  -5.00   1st Qu.:1104   1st Qu.:1124   1st Qu.: -17.000  \n",
              " Median :  -2.00   Median :1535   Median :1556   Median :  -5.000  \n",
              " Mean   :  12.64   Mean   :1502   Mean   :1536   Mean   :   6.895  \n",
              " 3rd Qu.:  11.00   3rd Qu.:1940   3rd Qu.:1945   3rd Qu.:  14.000  \n",
              " Max.   :1301.00   Max.   :2400   Max.   :2359   Max.   :1272.000  \n",
              " NA's   :8255      NA's   :8713                  NA's   :9430      \n",
              "   carrier              flight       tailnum             origin         \n",
              " Length:336776      Min.   :   1   Length:336776      Length:336776     \n",
              " Class :character   1st Qu.: 553   Class :character   Class :character  \n",
              " Mode  :character   Median :1496   Mode  :character   Mode  :character  \n",
              "                    Mean   :1972                                        \n",
              "                    3rd Qu.:3465                                        \n",
              "                    Max.   :8500                                        \n",
              "                                                                        \n",
              "     dest              air_time        distance         hour      \n",
              " Length:336776      Min.   : 20.0   Min.   :  17   Min.   : 1.00  \n",
              " Class :character   1st Qu.: 82.0   1st Qu.: 502   1st Qu.: 9.00  \n",
              " Mode  :character   Median :129.0   Median : 872   Median :13.00  \n",
              "                    Mean   :150.7   Mean   :1040   Mean   :13.18  \n",
              "                    3rd Qu.:192.0   3rd Qu.:1389   3rd Qu.:17.00  \n",
              "                    Max.   :695.0   Max.   :4983   Max.   :23.00  \n",
              "                    NA's   :9430                                  \n",
              "     minute        time_hour                  \n",
              " Min.   : 0.00   Min.   :2013-01-01 05:00:00  \n",
              " 1st Qu.: 8.00   1st Qu.:2013-04-04 13:00:00  \n",
              " Median :29.00   Median :2013-07-03 10:00:00  \n",
              " Mean   :26.23   Mean   :2013-07-03 05:22:54  \n",
              " 3rd Qu.:44.00   3rd Qu.:2013-10-01 07:00:00  \n",
              " Max.   :59.00   Max.   :2013-12-31 23:00:00  \n",
              "                                              "
            ]
          },
          "metadata": {
            "tags": []
          }
        }
      ]
    },
    {
      "cell_type": "code",
      "metadata": {
        "id": "KBcraJKexCyo"
      },
      "source": [
        "plot(flights)"
      ],
      "execution_count": null,
      "outputs": []
    },
    {
      "cell_type": "code",
      "metadata": {
        "id": "uI6oDPPuxUwk"
      },
      "source": [
        "flights %>% plot()"
      ],
      "execution_count": null,
      "outputs": []
    },
    {
      "cell_type": "code",
      "metadata": {
        "id": "55uIptJJxbU3"
      },
      "source": [
        "filter(flights, month==12, day==25) %>% head()"
      ],
      "execution_count": null,
      "outputs": []
    },
    {
      "cell_type": "code",
      "metadata": {
        "id": "ZgSKwLEtxkJs"
      },
      "source": [
        "flights %>% filter(month == 12, day == 25, dest == 'CLT') %>% head()"
      ],
      "execution_count": null,
      "outputs": []
    },
    {
      "cell_type": "code",
      "metadata": {
        "id": "Tm7dWu4Ox9Dh"
      },
      "source": [
        "flights %>% filter(month == 12 & day == 25 & dest %in% c('CLT','LAS')) %>% head()"
      ],
      "execution_count": null,
      "outputs": []
    },
    {
      "cell_type": "code",
      "metadata": {
        "id": "8gn4SvSIyK8u"
      },
      "source": [
        "arrange(flights, month, day, dest) %>% head()"
      ],
      "execution_count": null,
      "outputs": []
    },
    {
      "cell_type": "code",
      "metadata": {
        "id": "mlPBHqdOyUG-"
      },
      "source": [
        "select(flights, month, day, dest) %>% head()"
      ],
      "execution_count": null,
      "outputs": []
    },
    {
      "cell_type": "code",
      "metadata": {
        "id": "4Na5jZ2Iyf1O"
      },
      "source": [
        "select(flights, starts_with(\"arr\")) %>% head()"
      ],
      "execution_count": null,
      "outputs": []
    },
    {
      "cell_type": "code",
      "metadata": {
        "id": "sHw45fJiyqj3"
      },
      "source": [
        "rename(flights, distance = D) %>% head()"
      ],
      "execution_count": null,
      "outputs": []
    },
    {
      "cell_type": "code",
      "metadata": {
        "id": "nhLOjkKoy4gP"
      },
      "source": [
        "colnames(flights)"
      ],
      "execution_count": null,
      "outputs": []
    },
    {
      "cell_type": "code",
      "metadata": {
        "id": "HU96v9pSy7jp"
      },
      "source": [
        "flights %>% \r\n",
        "    select(year:day, ends_with(\"delay\"), distance, air_time) %>% \r\n",
        "    mutate(gain = dep_delay - arr_delay,\r\n",
        "              hours = air_time / 60,\r\n",
        "              gain_per_hour = gain / hours) %>% head()"
      ],
      "execution_count": null,
      "outputs": []
    },
    {
      "cell_type": "code",
      "metadata": {
        "id": "S9CYztXIzZxj"
      },
      "source": [
        "flights %>% summarise(airtime = mean(air_time, na.rm=TRUE)) %>% head()"
      ],
      "execution_count": null,
      "outputs": []
    },
    {
      "cell_type": "code",
      "metadata": {
        "id": "ErECgEol0EyK"
      },
      "source": [
        "flights %>% group_by(dest) %>% \r\n",
        "summarise(airtime = mean(air_time, na.rm = TRUE), sd_airtime = sd(air_time, na.rm = TRUE)) %>% head()"
      ],
      "execution_count": null,
      "outputs": []
    },
    {
      "cell_type": "code",
      "metadata": {
        "id": "aRFjyAPR01YD"
      },
      "source": [
        "flights %>% group_by(dest) %>% \r\n",
        "   summarise(count = n(), airtime = mean(air_time, na.rm = TRUE), delay = mean(arr_delay, na.rm = TRUE) ) %>%\r\n",
        "   filter(count > 20, dest != \"CLT\") %>% \r\n",
        "ggplot(mapping = aes(x = dist, y = airtime)) +\r\n",
        "  geom_point(aes(size = count)) + theme_bw()"
      ],
      "execution_count": null,
      "outputs": []
    }
  ]
}