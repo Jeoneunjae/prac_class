{
  "nbformat": 4,
  "nbformat_minor": 0,
  "metadata": {
    "colab": {
      "name": "2021-04-01 python practice",
      "provenance": [],
      "collapsed_sections": [],
      "toc_visible": true,
      "include_colab_link": true
    },
    "kernelspec": {
      "display_name": "Python 3",
      "name": "python3"
    }
  },
  "cells": [
    {
      "cell_type": "markdown",
      "metadata": {
        "id": "view-in-github",
        "colab_type": "text"
      },
      "source": [
        "<a href=\"https://colab.research.google.com/github/Jeoneunjae/prac_class/blob/main/2021_04_01_python_practice.ipynb\" target=\"_parent\"><img src=\"https://colab.research.google.com/assets/colab-badge.svg\" alt=\"Open In Colab\"/></a>"
      ]
    },
    {
      "cell_type": "markdown",
      "metadata": {
        "id": "arBAfLmXUnFa"
      },
      "source": [
        "Phython Practice"
      ]
    },
    {
      "cell_type": "markdown",
      "metadata": {
        "id": "2HyjFxleUsE6"
      },
      "source": [
        "Chapter 2: Numeric operations\n",
        "\n",
        "\n",
        "*   four fundamental arithmatic operations(+, -, /, *)\n",
        "*   power(**)\n",
        "*   quotient몫 and remainder나머지(%,//)"
      ]
    },
    {
      "cell_type": "code",
      "metadata": {
        "colab": {
          "base_uri": "https://localhost:8080/"
        },
        "id": "Uphuu6V2VMVF",
        "outputId": "e1529d65-ef7b-4da0-e222-235c702017cc"
      },
      "source": [
        "1+3"
      ],
      "execution_count": null,
      "outputs": [
        {
          "output_type": "execute_result",
          "data": {
            "text/plain": [
              "4"
            ]
          },
          "metadata": {
            "tags": []
          },
          "execution_count": 1
        }
      ]
    },
    {
      "cell_type": "code",
      "metadata": {
        "colab": {
          "base_uri": "https://localhost:8080/"
        },
        "id": "URNKDwPwVQq3",
        "outputId": "f4d6bd1b-4780-4cd7-8a6e-e7144d0fd0f3"
      },
      "source": [
        "5-2"
      ],
      "execution_count": null,
      "outputs": [
        {
          "output_type": "execute_result",
          "data": {
            "text/plain": [
              "3"
            ]
          },
          "metadata": {
            "tags": []
          },
          "execution_count": 2
        }
      ]
    },
    {
      "cell_type": "code",
      "metadata": {
        "colab": {
          "base_uri": "https://localhost:8080/"
        },
        "id": "0mOY4i4JVU9N",
        "outputId": "a8432f39-fefb-4d68-be55-71d92795e51d"
      },
      "source": [
        "4/2"
      ],
      "execution_count": null,
      "outputs": [
        {
          "output_type": "execute_result",
          "data": {
            "text/plain": [
              "2.0"
            ]
          },
          "metadata": {
            "tags": []
          },
          "execution_count": 3
        }
      ]
    },
    {
      "cell_type": "code",
      "metadata": {
        "colab": {
          "base_uri": "https://localhost:8080/"
        },
        "id": "DxE_33DnVXMQ",
        "outputId": "43247749-ee75-4073-bf0f-c6fcf5bbcb9a"
      },
      "source": [
        "5*3"
      ],
      "execution_count": null,
      "outputs": [
        {
          "output_type": "execute_result",
          "data": {
            "text/plain": [
              "15"
            ]
          },
          "metadata": {
            "tags": []
          },
          "execution_count": 4
        }
      ]
    },
    {
      "cell_type": "code",
      "metadata": {
        "colab": {
          "base_uri": "https://localhost:8080/"
        },
        "id": "iLtzbu2EVarG",
        "outputId": "10a20f4c-e29d-4dac-bccc-c0c77786ee85"
      },
      "source": [
        "5**2"
      ],
      "execution_count": null,
      "outputs": [
        {
          "output_type": "execute_result",
          "data": {
            "text/plain": [
              "25"
            ]
          },
          "metadata": {
            "tags": []
          },
          "execution_count": 5
        }
      ]
    },
    {
      "cell_type": "code",
      "metadata": {
        "colab": {
          "base_uri": "https://localhost:8080/"
        },
        "id": "TALYP3RtVdUe",
        "outputId": "dbc59f1b-d097-4d92-9ae0-01fb6cecfe74"
      },
      "source": [
        "3%2"
      ],
      "execution_count": null,
      "outputs": [
        {
          "output_type": "execute_result",
          "data": {
            "text/plain": [
              "1"
            ]
          },
          "metadata": {
            "tags": []
          },
          "execution_count": 11
        }
      ]
    },
    {
      "cell_type": "code",
      "metadata": {
        "colab": {
          "base_uri": "https://localhost:8080/"
        },
        "id": "CTD3xluAVzkH",
        "outputId": "f99bc16a-2c44-42e1-a3d7-0a3f162a4527"
      },
      "source": [
        "3//2"
      ],
      "execution_count": null,
      "outputs": [
        {
          "output_type": "execute_result",
          "data": {
            "text/plain": [
              "1"
            ]
          },
          "metadata": {
            "tags": []
          },
          "execution_count": 12
        }
      ]
    },
    {
      "cell_type": "markdown",
      "metadata": {
        "id": "zj02uHL1WIF5"
      },
      "source": [
        "string operations\n",
        "\n",
        "*   how to define string(\"-\", '0', \"\"0\"\", and\"'0'\")\n",
        "*   escape codes\n",
        "*   string operations(+, *)\n",
        "*   indexing\n",
        "*   formating\n",
        "*   string functions(join, split, upper, lower, strip, ...)\n",
        "\n",
        "\n",
        "\n",
        "\n",
        "\n"
      ]
    },
    {
      "cell_type": "code",
      "metadata": {
        "id": "Hj6JoR97Wkmj"
      },
      "source": [
        "str1 = \"this is a string\""
      ],
      "execution_count": null,
      "outputs": []
    },
    {
      "cell_type": "code",
      "metadata": {
        "id": "tUezCHsVXOIs"
      },
      "source": [
        "str1 = \"\"\"a man talked \"hi jain\". 'dfdf' in \\n \\t fdfd  \"\"\""
      ],
      "execution_count": null,
      "outputs": []
    },
    {
      "cell_type": "code",
      "metadata": {
        "colab": {
          "base_uri": "https://localhost:8080/"
        },
        "id": "l8iJtNPFXcRD",
        "outputId": "5381618a-ce4e-4d44-c00a-eb5270046278"
      },
      "source": [
        "print(str1)"
      ],
      "execution_count": null,
      "outputs": [
        {
          "output_type": "stream",
          "text": [
            "a man talked \"hi jain\". 'dfdf' in \n",
            " \t fdfd  \n"
          ],
          "name": "stdout"
        }
      ]
    },
    {
      "cell_type": "code",
      "metadata": {
        "id": "5JcUO4O9Xigp"
      },
      "source": [
        "str = \"aab\" \n",
        "strB = \"ccd\""
      ],
      "execution_count": null,
      "outputs": []
    },
    {
      "cell_type": "code",
      "metadata": {
        "colab": {
          "base_uri": "https://localhost:8080/",
          "height": 35
        },
        "id": "c29OeAEGXlhs",
        "outputId": "dea7b812-7386-49fa-daef-62a184d6e28f"
      },
      "source": [
        "str+strB"
      ],
      "execution_count": null,
      "outputs": [
        {
          "output_type": "execute_result",
          "data": {
            "application/vnd.google.colaboratory.intrinsic+json": {
              "type": "string"
            },
            "text/plain": [
              "'aabccd'"
            ]
          },
          "metadata": {
            "tags": []
          },
          "execution_count": 18
        }
      ]
    },
    {
      "cell_type": "code",
      "metadata": {
        "colab": {
          "base_uri": "https://localhost:8080/",
          "height": 35
        },
        "id": "UPQ20XM0XpWY",
        "outputId": "729919ee-224b-41ca-d9c5-3f0441834580"
      },
      "source": [
        "str*3"
      ],
      "execution_count": null,
      "outputs": [
        {
          "output_type": "execute_result",
          "data": {
            "application/vnd.google.colaboratory.intrinsic+json": {
              "type": "string"
            },
            "text/plain": [
              "'aabaabaab'"
            ]
          },
          "metadata": {
            "tags": []
          },
          "execution_count": 19
        }
      ]
    },
    {
      "cell_type": "code",
      "metadata": {
        "id": "bH6zhtGpXro8"
      },
      "source": [
        "str = \"aabccd\" "
      ],
      "execution_count": null,
      "outputs": []
    },
    {
      "cell_type": "code",
      "metadata": {
        "colab": {
          "base_uri": "https://localhost:8080/",
          "height": 35
        },
        "id": "li1dfZ3BXuEI",
        "outputId": "3f86a40d-d916-40a3-9c9b-008deb15615c"
      },
      "source": [
        "str[1:-3]"
      ],
      "execution_count": null,
      "outputs": [
        {
          "output_type": "execute_result",
          "data": {
            "application/vnd.google.colaboratory.intrinsic+json": {
              "type": "string"
            },
            "text/plain": [
              "'ab'"
            ]
          },
          "metadata": {
            "tags": []
          },
          "execution_count": 36
        }
      ]
    },
    {
      "cell_type": "code",
      "metadata": {
        "colab": {
          "base_uri": "https://localhost:8080/",
          "height": 35
        },
        "id": "2MV6V4F-Xzfr",
        "outputId": "ecc50098-91be-47ec-f37f-ad3a109f8563"
      },
      "source": [
        "a = \"40\"\n",
        "\n",
        "\"varible A: {}\".format(a)"
      ],
      "execution_count": null,
      "outputs": [
        {
          "output_type": "execute_result",
          "data": {
            "application/vnd.google.colaboratory.intrinsic+json": {
              "type": "string"
            },
            "text/plain": [
              "'varible A: 40'"
            ]
          },
          "metadata": {
            "tags": []
          },
          "execution_count": 22
        }
      ]
    },
    {
      "cell_type": "code",
      "metadata": {
        "colab": {
          "base_uri": "https://localhost:8080/"
        },
        "id": "4PUk9ixyX5H8",
        "outputId": "61ac446b-05a4-4b50-e89f-f76f4a86d910"
      },
      "source": [
        "print( \"varible A: {}\".format(a) )"
      ],
      "execution_count": null,
      "outputs": [
        {
          "output_type": "stream",
          "text": [
            "varible A: 40\n"
          ],
          "name": "stdout"
        }
      ]
    },
    {
      "cell_type": "code",
      "metadata": {
        "colab": {
          "base_uri": "https://localhost:8080/"
        },
        "id": "c7d7vlxlX90V",
        "outputId": "4ddfd39b-ef2c-4568-ebc3-3cec0bd58111"
      },
      "source": [
        "alist = [\"a\",\"b\",\"c\"]\n",
        "alist"
      ],
      "execution_count": null,
      "outputs": [
        {
          "output_type": "execute_result",
          "data": {
            "text/plain": [
              "['a', 'b', 'c']"
            ]
          },
          "metadata": {
            "tags": []
          },
          "execution_count": 24
        }
      ]
    },
    {
      "cell_type": "code",
      "metadata": {
        "colab": {
          "base_uri": "https://localhost:8080/",
          "height": 35
        },
        "id": "byz2gGFHYBPa",
        "outputId": "8d3cc0ba-47b8-4a3b-9c32-4b43d20d79d9"
      },
      "source": [
        "b = \" \".join(alist)\n",
        "b"
      ],
      "execution_count": null,
      "outputs": [
        {
          "output_type": "execute_result",
          "data": {
            "application/vnd.google.colaboratory.intrinsic+json": {
              "type": "string"
            },
            "text/plain": [
              "'a b c'"
            ]
          },
          "metadata": {
            "tags": []
          },
          "execution_count": 25
        }
      ]
    },
    {
      "cell_type": "code",
      "metadata": {
        "colab": {
          "base_uri": "https://localhost:8080/"
        },
        "id": "8G8_v9CDYD3W",
        "outputId": "8a878aa9-1502-42fd-981b-5c3899cbdafb"
      },
      "source": [
        "b.split()"
      ],
      "execution_count": null,
      "outputs": [
        {
          "output_type": "execute_result",
          "data": {
            "text/plain": [
              "['a', 'b', 'c']"
            ]
          },
          "metadata": {
            "tags": []
          },
          "execution_count": 26
        }
      ]
    },
    {
      "cell_type": "code",
      "metadata": {
        "colab": {
          "base_uri": "https://localhost:8080/",
          "height": 35
        },
        "id": "A8mWLYtjYFcz",
        "outputId": "79e422b1-80fa-4dda-a5c8-587cdb0e9192"
      },
      "source": [
        "b.upper()"
      ],
      "execution_count": null,
      "outputs": [
        {
          "output_type": "execute_result",
          "data": {
            "application/vnd.google.colaboratory.intrinsic+json": {
              "type": "string"
            },
            "text/plain": [
              "'A B C'"
            ]
          },
          "metadata": {
            "tags": []
          },
          "execution_count": 28
        }
      ]
    },
    {
      "cell_type": "markdown",
      "metadata": {
        "id": "SPYUK5xZYXwy"
      },
      "source": [
        "list\n",
        "\n",
        "*   how to define a list\n",
        "*   indexing\n",
        "*   list operations(+, *, len)\n",
        "*   some functions with list(appnd, sort, reverse,...)"
      ]
    },
    {
      "cell_type": "code",
      "metadata": {
        "colab": {
          "base_uri": "https://localhost:8080/"
        },
        "id": "8KvWOiebYnF6",
        "outputId": "6ba25888-ab75-4332-a3f7-51decdaaf537"
      },
      "source": [
        "a = [1,2,3,4,0,-1]\n",
        "a"
      ],
      "execution_count": null,
      "outputs": [
        {
          "output_type": "execute_result",
          "data": {
            "text/plain": [
              "[1, 2, 3, 4, 0, -1]"
            ]
          },
          "metadata": {
            "tags": []
          },
          "execution_count": 29
        }
      ]
    },
    {
      "cell_type": "code",
      "metadata": {
        "colab": {
          "base_uri": "https://localhost:8080/"
        },
        "id": "zMW_PhV9Ys38",
        "outputId": "059b2082-7779-4edc-c9ad-3a4850fa24f1"
      },
      "source": [
        "b = [1,2, \"ab\", 4]\n",
        "b"
      ],
      "execution_count": null,
      "outputs": [
        {
          "output_type": "execute_result",
          "data": {
            "text/plain": [
              "[1, 2, 'ab', 4]"
            ]
          },
          "metadata": {
            "tags": []
          },
          "execution_count": 30
        }
      ]
    },
    {
      "cell_type": "code",
      "metadata": {
        "colab": {
          "base_uri": "https://localhost:8080/"
        },
        "id": "W-LL4Tq3YwuA",
        "outputId": "0d1b8b21-2e9d-4dde-dcec-3eebd89e8821"
      },
      "source": [
        "c = [1,2,[1,2], [1,2,[1,2,3]]]\n",
        "c"
      ],
      "execution_count": null,
      "outputs": [
        {
          "output_type": "execute_result",
          "data": {
            "text/plain": [
              "[1, 2, [1, 2], [1, 2, [1, 2, 3]]]"
            ]
          },
          "metadata": {
            "tags": []
          },
          "execution_count": 31
        }
      ]
    },
    {
      "cell_type": "code",
      "metadata": {
        "colab": {
          "base_uri": "https://localhost:8080/"
        },
        "id": "SzOoZeumYzKz",
        "outputId": "bb33a6a2-fa86-42cb-895a-b4b3c013518e"
      },
      "source": [
        "c[2][1] #c의 3번째의 2번째 항목"
      ],
      "execution_count": null,
      "outputs": [
        {
          "output_type": "execute_result",
          "data": {
            "text/plain": [
              "2"
            ]
          },
          "metadata": {
            "tags": []
          },
          "execution_count": 32
        }
      ]
    },
    {
      "cell_type": "code",
      "metadata": {
        "colab": {
          "base_uri": "https://localhost:8080/"
        },
        "id": "1uQ3HFTtY1p6",
        "outputId": "a59e16b1-4ebd-4d06-80a6-d98bb98a0233"
      },
      "source": [
        "c[3][2][0]"
      ],
      "execution_count": null,
      "outputs": [
        {
          "output_type": "execute_result",
          "data": {
            "text/plain": [
              "1"
            ]
          },
          "metadata": {
            "tags": []
          },
          "execution_count": 33
        }
      ]
    },
    {
      "cell_type": "code",
      "metadata": {
        "colab": {
          "base_uri": "https://localhost:8080/"
        },
        "id": "VrYgauZbY6zn",
        "outputId": "ba513348-3402-4c27-fa19-322d5dab5f56"
      },
      "source": [
        "len(c) #length of c"
      ],
      "execution_count": null,
      "outputs": [
        {
          "output_type": "execute_result",
          "data": {
            "text/plain": [
              "4"
            ]
          },
          "metadata": {
            "tags": []
          },
          "execution_count": 34
        }
      ]
    },
    {
      "cell_type": "code",
      "metadata": {
        "colab": {
          "base_uri": "https://localhost:8080/"
        },
        "id": "zNTOfxj3a9ON",
        "outputId": "f34f59c8-d1c0-4663-f19c-dbb1a8929b3f"
      },
      "source": [
        "a.sort() #크기 순서대로 나열\n",
        "a"
      ],
      "execution_count": null,
      "outputs": [
        {
          "output_type": "execute_result",
          "data": {
            "text/plain": [
              "[-1, 0, 1, 2, 3, 4]"
            ]
          },
          "metadata": {
            "tags": []
          },
          "execution_count": 37
        }
      ]
    },
    {
      "cell_type": "code",
      "metadata": {
        "colab": {
          "base_uri": "https://localhost:8080/"
        },
        "id": "oEy9zaF5bKmX",
        "outputId": "8f6752df-6ced-4df4-8c18-d9af2395425f"
      },
      "source": [
        "a.append(10) #10추가\n",
        "a"
      ],
      "execution_count": null,
      "outputs": [
        {
          "output_type": "execute_result",
          "data": {
            "text/plain": [
              "[-1, 0, 1, 2, 3, 4, 10]"
            ]
          },
          "metadata": {
            "tags": []
          },
          "execution_count": 39
        }
      ]
    },
    {
      "cell_type": "code",
      "metadata": {
        "colab": {
          "base_uri": "https://localhost:8080/"
        },
        "id": "UvIX0gfLbRjy",
        "outputId": "8f2f5b59-ccef-412e-897c-577f8e9a253e"
      },
      "source": [
        "a.reverse() #순서 뒤집기\n",
        "a"
      ],
      "execution_count": null,
      "outputs": [
        {
          "output_type": "execute_result",
          "data": {
            "text/plain": [
              "[10, 4, 3, 2, 1, 0, -1]"
            ]
          },
          "metadata": {
            "tags": []
          },
          "execution_count": 40
        }
      ]
    },
    {
      "cell_type": "markdown",
      "metadata": {
        "id": "8rLNlcSkbXXC"
      },
      "source": [
        "Dictionary\n",
        "\n",
        "*   how to define a dictionary\n",
        "*   functions(keys, values, items, get, in)"
      ]
    },
    {
      "cell_type": "code",
      "metadata": {
        "colab": {
          "base_uri": "https://localhost:8080/"
        },
        "id": "GyPr4lApbgwL",
        "outputId": "ea44f1ec-ddfd-4aec-dec6-ba9672fefdbd"
      },
      "source": [
        "dic = {'name':'pey', 'phone':'0119993323', 'birth': '1118'}\n",
        "dic"
      ],
      "execution_count": null,
      "outputs": [
        {
          "output_type": "execute_result",
          "data": {
            "text/plain": [
              "{'birth': '1118', 'name': 'pey', 'phone': '0119993323'}"
            ]
          },
          "metadata": {
            "tags": []
          },
          "execution_count": 41
        }
      ]
    },
    {
      "cell_type": "code",
      "metadata": {
        "colab": {
          "base_uri": "https://localhost:8080/",
          "height": 35
        },
        "id": "fdhoCnRZcvcp",
        "outputId": "2db5efcb-4310-45ba-90f6-bdde3c39a619"
      },
      "source": [
        "dic['birth']"
      ],
      "execution_count": null,
      "outputs": [
        {
          "output_type": "execute_result",
          "data": {
            "application/vnd.google.colaboratory.intrinsic+json": {
              "type": "string"
            },
            "text/plain": [
              "'1118'"
            ]
          },
          "metadata": {
            "tags": []
          },
          "execution_count": 42
        }
      ]
    },
    {
      "cell_type": "code",
      "metadata": {
        "colab": {
          "base_uri": "https://localhost:8080/"
        },
        "id": "My4SkGjrcy6n",
        "outputId": "4d714410-fdd2-48a1-db17-a0d7310aca2b"
      },
      "source": [
        "dic['newkey1']=123\n",
        "dic"
      ],
      "execution_count": null,
      "outputs": [
        {
          "output_type": "execute_result",
          "data": {
            "text/plain": [
              "{'birth': '1118', 'name': 'pey', 'newkey1': 123, 'phone': '0119993323'}"
            ]
          },
          "metadata": {
            "tags": []
          },
          "execution_count": 44
        }
      ]
    },
    {
      "cell_type": "code",
      "metadata": {
        "colab": {
          "base_uri": "https://localhost:8080/"
        },
        "id": "ooh80bZvc5AC",
        "outputId": "73d765a2-8fe0-4660-dc4a-1ace3cae6d65"
      },
      "source": [
        "dic. keys()"
      ],
      "execution_count": null,
      "outputs": [
        {
          "output_type": "execute_result",
          "data": {
            "text/plain": [
              "dict_keys(['name', 'phone', 'birth', 'newkey1'])"
            ]
          },
          "metadata": {
            "tags": []
          },
          "execution_count": 45
        }
      ]
    },
    {
      "cell_type": "code",
      "metadata": {
        "colab": {
          "base_uri": "https://localhost:8080/"
        },
        "id": "3qeH3Et1c9Ql",
        "outputId": "b132cac1-5b56-430b-ddd2-24898870bcc6"
      },
      "source": [
        "dic. values()"
      ],
      "execution_count": null,
      "outputs": [
        {
          "output_type": "execute_result",
          "data": {
            "text/plain": [
              "dict_values(['pey', '0119993323', '1118', 123])"
            ]
          },
          "metadata": {
            "tags": []
          },
          "execution_count": 46
        }
      ]
    },
    {
      "cell_type": "code",
      "metadata": {
        "colab": {
          "base_uri": "https://localhost:8080/"
        },
        "id": "lGMuM-MVc_fB",
        "outputId": "7936b8c7-b00e-443a-862c-3c743b390154"
      },
      "source": [
        "dic. items()"
      ],
      "execution_count": null,
      "outputs": [
        {
          "output_type": "execute_result",
          "data": {
            "text/plain": [
              "dict_items([('name', 'pey'), ('phone', '0119993323'), ('birth', '1118'), ('newkey1', 123)])"
            ]
          },
          "metadata": {
            "tags": []
          },
          "execution_count": 47
        }
      ]
    },
    {
      "cell_type": "code",
      "metadata": {
        "colab": {
          "base_uri": "https://localhost:8080/"
        },
        "id": "K5B0dPj_dCxi",
        "outputId": "b1f15862-134a-436d-be84-a88c5a57e72e"
      },
      "source": [
        "for (key,value) in dic.items() : \n",
        "  print(\"key:{}, value:{}\".format(key,value)) #for loops"
      ],
      "execution_count": null,
      "outputs": [
        {
          "output_type": "stream",
          "text": [
            "key:name, value:pey\n",
            "key:phone, value:0119993323\n",
            "key:birth, value:1118\n",
            "key:newkey1, value:123\n"
          ],
          "name": "stdout"
        }
      ]
    },
    {
      "cell_type": "code",
      "metadata": {
        "colab": {
          "base_uri": "https://localhost:8080/",
          "height": 35
        },
        "id": "nchoRwOqdKiz",
        "outputId": "0bc3fa04-16cb-46f8-bf1a-7752edb0e9c2"
      },
      "source": [
        "dic. get('phone')"
      ],
      "execution_count": null,
      "outputs": [
        {
          "output_type": "execute_result",
          "data": {
            "application/vnd.google.colaboratory.intrinsic+json": {
              "type": "string"
            },
            "text/plain": [
              "'0119993323'"
            ]
          },
          "metadata": {
            "tags": []
          },
          "execution_count": 49
        }
      ]
    },
    {
      "cell_type": "code",
      "metadata": {
        "colab": {
          "base_uri": "https://localhost:8080/"
        },
        "id": "M5dnsMnCdPfC",
        "outputId": "ad4fa412-ead5-4cc5-ce81-97a6138332e6"
      },
      "source": [
        "'name' in ['name', 'aaa'] #['name', 'aaa'] 안에 'name' 있으므로 true"
      ],
      "execution_count": null,
      "outputs": [
        {
          "output_type": "execute_result",
          "data": {
            "text/plain": [
              "True"
            ]
          },
          "metadata": {
            "tags": []
          },
          "execution_count": 50
        }
      ]
    },
    {
      "cell_type": "markdown",
      "metadata": {
        "id": "xahoz6Lud76r"
      },
      "source": [
        "chapter 2 practice"
      ]
    },
    {
      "cell_type": "markdown",
      "metadata": {
        "id": "mpdgcpoUd-tj"
      },
      "source": [
        "1) remove duplicates"
      ]
    },
    {
      "cell_type": "code",
      "metadata": {
        "id": "g2J8A9OPeBJq"
      },
      "source": [
        "a = [1, 1, 1, 2, 2, 3, 3, 3, 4, 4, 5]"
      ],
      "execution_count": null,
      "outputs": []
    },
    {
      "cell_type": "code",
      "metadata": {
        "colab": {
          "base_uri": "https://localhost:8080/"
        },
        "id": "WKt3iEZxeNwl",
        "outputId": "0c3eb993-782f-4ff7-97e5-eb806a20b5ef"
      },
      "source": [
        "a = [1, 1, 1, 2, 2, 3, 3, 3, 4, 4, 5]\n",
        "list(set(a))"
      ],
      "execution_count": null,
      "outputs": [
        {
          "output_type": "execute_result",
          "data": {
            "text/plain": [
              "[1, 2, 3, 4, 5]"
            ]
          },
          "metadata": {
            "tags": []
          },
          "execution_count": 52
        }
      ]
    },
    {
      "cell_type": "markdown",
      "metadata": {
        "id": "VkdomuyPeQKN"
      },
      "source": [
        "2) how to extract 'A' and 'B' from the list 'a'?"
      ]
    },
    {
      "cell_type": "code",
      "metadata": {
        "id": "1-rFzyJbeUmd"
      },
      "source": [
        "a = {'A':90, 'B':80, 'C':70}"
      ],
      "execution_count": null,
      "outputs": []
    },
    {
      "cell_type": "code",
      "metadata": {
        "colab": {
          "base_uri": "https://localhost:8080/"
        },
        "id": "0XLn24hveXnr",
        "outputId": "7f3b94d8-5bbd-450f-b9e9-ef10c229eeba"
      },
      "source": [
        "a['A']"
      ],
      "execution_count": null,
      "outputs": [
        {
          "output_type": "execute_result",
          "data": {
            "text/plain": [
              "90"
            ]
          },
          "metadata": {
            "tags": []
          },
          "execution_count": 56
        }
      ]
    },
    {
      "cell_type": "markdown",
      "metadata": {
        "id": "IFIRw_L8ehCC"
      },
      "source": [
        "3) what is the result?"
      ]
    },
    {
      "cell_type": "code",
      "metadata": {
        "colab": {
          "base_uri": "https://localhost:8080/"
        },
        "id": "lHfq2yUqekeD",
        "outputId": "8487372c-6f32-4452-b418-3f1eb6ea957d"
      },
      "source": [
        "a = b = [1, 2, 3]\n",
        "a[1] = 4\n",
        "print(b)"
      ],
      "execution_count": null,
      "outputs": [
        {
          "output_type": "stream",
          "text": [
            "[1, 4, 3]\n"
          ],
          "name": "stdout"
        }
      ]
    },
    {
      "cell_type": "markdown",
      "metadata": {
        "id": "tSs2D9nWfZvi"
      },
      "source": [
        "chapter 3"
      ]
    },
    {
      "cell_type": "markdown",
      "metadata": {
        "id": "mNvnasswfbRN"
      },
      "source": [
        "if else"
      ]
    },
    {
      "cell_type": "code",
      "metadata": {
        "colab": {
          "base_uri": "https://localhost:8080/"
        },
        "id": "HB0kqyPvfch5",
        "outputId": "86189320-9b7d-40f7-d539-347f3c190dfe"
      },
      "source": [
        "if 1 :\n",
        "  print(\"Do it\")\n",
        "else :\n",
        "  print(\"cond not true\")"
      ],
      "execution_count": null,
      "outputs": [
        {
          "output_type": "stream",
          "text": [
            "Do it\n"
          ],
          "name": "stdout"
        }
      ]
    },
    {
      "cell_type": "code",
      "metadata": {
        "colab": {
          "base_uri": "https://localhost:8080/"
        },
        "id": "e1z8tI1-hVc6",
        "outputId": "082af3cf-fdaf-4808-defc-67328499ffc7"
      },
      "source": [
        "if 0 :\n",
        "  print(\"Do it\")\n",
        "else :\n",
        "  print(\"cond not true\")"
      ],
      "execution_count": null,
      "outputs": [
        {
          "output_type": "stream",
          "text": [
            "cond not true\n"
          ],
          "name": "stdout"
        }
      ]
    },
    {
      "cell_type": "code",
      "metadata": {
        "id": "QDo6PFs3hYuV"
      },
      "source": [
        "a = 10; b = 0"
      ],
      "execution_count": null,
      "outputs": []
    },
    {
      "cell_type": "code",
      "metadata": {
        "colab": {
          "base_uri": "https://localhost:8080/"
        },
        "id": "vJN-6f1_haxY",
        "outputId": "9e9d343a-771e-4ed9-f23b-3b6b87062da8"
      },
      "source": [
        "if a > 0 :\n",
        "  print(\"Do it\")\n",
        "else :\n",
        "  print(\"cond not true\")"
      ],
      "execution_count": null,
      "outputs": [
        {
          "output_type": "stream",
          "text": [
            "Do it\n"
          ],
          "name": "stdout"
        }
      ]
    },
    {
      "cell_type": "code",
      "metadata": {
        "id": "moR_nLj9hjLw"
      },
      "source": [
        "name = 'Tom'; listofnames = ['Tom', 'Jane', 'Karl']"
      ],
      "execution_count": null,
      "outputs": []
    },
    {
      "cell_type": "code",
      "metadata": {
        "colab": {
          "base_uri": "https://localhost:8080/"
        },
        "id": "x-lPGxC8hm6c",
        "outputId": "c05b7cc7-00b8-44b0-c414-254d191e5aa5"
      },
      "source": [
        "if name not in listofnames :\n",
        "  print(\"Do it\")\n",
        "else :\n",
        "  print(\"cond not true\")"
      ],
      "execution_count": null,
      "outputs": [
        {
          "output_type": "stream",
          "text": [
            "cond not true\n"
          ],
          "name": "stdout"
        }
      ]
    },
    {
      "cell_type": "markdown",
      "metadata": {
        "id": "uKrnOSjXhvAz"
      },
      "source": [
        "for loop"
      ]
    },
    {
      "cell_type": "code",
      "metadata": {
        "colab": {
          "base_uri": "https://localhost:8080/"
        },
        "id": "OuZRnvC-hv-z",
        "outputId": "39876078-f73c-4bf1-8438-bca3fab74aa8"
      },
      "source": [
        "for i in range(5) :\n",
        "  print(i)"
      ],
      "execution_count": null,
      "outputs": [
        {
          "output_type": "stream",
          "text": [
            "0\n",
            "1\n",
            "2\n",
            "3\n",
            "4\n"
          ],
          "name": "stdout"
        }
      ]
    },
    {
      "cell_type": "code",
      "metadata": {
        "colab": {
          "base_uri": "https://localhost:8080/"
        },
        "id": "FYr_uKY2h2Lq",
        "outputId": "a8629ba1-75b8-4a9a-9e44-086f1bbad42c"
      },
      "source": [
        "for name in listofnames :\n",
        "  print(name)"
      ],
      "execution_count": null,
      "outputs": [
        {
          "output_type": "stream",
          "text": [
            "Tom\n",
            "Jane\n",
            "Karl\n"
          ],
          "name": "stdout"
        }
      ]
    },
    {
      "cell_type": "code",
      "metadata": {
        "colab": {
          "base_uri": "https://localhost:8080/"
        },
        "id": "sqY1KZGnh8co",
        "outputId": "a1cef993-0246-40a5-83c1-e9f4deb3eb4f"
      },
      "source": [
        "dic"
      ],
      "execution_count": null,
      "outputs": [
        {
          "output_type": "execute_result",
          "data": {
            "text/plain": [
              "{'birth': '1118', 'name': 'pey', 'newkey1': 123, 'phone': '0119993323'}"
            ]
          },
          "metadata": {
            "tags": []
          },
          "execution_count": 67
        }
      ]
    },
    {
      "cell_type": "code",
      "metadata": {
        "colab": {
          "base_uri": "https://localhost:8080/"
        },
        "id": "zAJ5wNwvh_GF",
        "outputId": "7679a9a9-93a7-4d78-b55d-2f334cb9a3a0"
      },
      "source": [
        "for (key,value) in dic.items() :\n",
        "  print(key, value)"
      ],
      "execution_count": null,
      "outputs": [
        {
          "output_type": "stream",
          "text": [
            "name pey\n",
            "phone 0119993323\n",
            "birth 1118\n",
            "newkey1 123\n"
          ],
          "name": "stdout"
        }
      ]
    },
    {
      "cell_type": "markdown",
      "metadata": {
        "id": "82Lnuafejv9W"
      },
      "source": [
        "chapter 4"
      ]
    },
    {
      "cell_type": "markdown",
      "metadata": {
        "id": "4NjWNXPXjxaG"
      },
      "source": [
        "function"
      ]
    },
    {
      "cell_type": "code",
      "metadata": {
        "id": "APHa2WUzjyRY"
      },
      "source": [
        "afunc <- function(a,b) {\n",
        "    xdfdsfdsfd\n",
        "\n",
        "    return (a+b)\n",
        "}\n",
        "#in R"
      ],
      "execution_count": null,
      "outputs": []
    },
    {
      "cell_type": "code",
      "metadata": {
        "colab": {
          "base_uri": "https://localhost:8080/"
        },
        "id": "SlFmuSmej1bv",
        "outputId": "6d691ffe-1ceb-47fc-86a1-bba6545030ce"
      },
      "source": [
        "if 0 :\n",
        "  print(\"hi\")\n",
        "  print(\"bye\")\n",
        "print(\"2\")\n",
        "#in R, tab is very important"
      ],
      "execution_count": null,
      "outputs": [
        {
          "output_type": "stream",
          "text": [
            "2\n"
          ],
          "name": "stdout"
        }
      ]
    },
    {
      "cell_type": "code",
      "metadata": {
        "id": "zCpuGUDxj3Qz"
      },
      "source": [
        "def add(a, b):\n",
        "  return a+b"
      ],
      "execution_count": null,
      "outputs": []
    },
    {
      "cell_type": "code",
      "metadata": {
        "colab": {
          "base_uri": "https://localhost:8080/"
        },
        "id": "oJp__v23j41a",
        "outputId": "5312b9a3-0adb-446a-df7e-c85689432e04"
      },
      "source": [
        "print(add(3, 4))  "
      ],
      "execution_count": null,
      "outputs": [
        {
          "output_type": "stream",
          "text": [
            "7\n"
          ],
          "name": "stdout"
        }
      ]
    },
    {
      "cell_type": "markdown",
      "metadata": {
        "id": "jk1DEJRwkNO9"
      },
      "source": [
        "file read and write"
      ]
    },
    {
      "cell_type": "code",
      "metadata": {
        "id": "Jm9KDvUokPw8"
      },
      "source": [
        "with open('ids.txt', 'w') as f :\n",
        "    f.write('ID\\nJohn\\nKarl\\nAndy\\nTim\\n')"
      ],
      "execution_count": null,
      "outputs": []
    },
    {
      "cell_type": "code",
      "metadata": {
        "id": "jx0CLYqhkrPb"
      },
      "source": [
        "with open('data1.txt', 'w') as f :\n",
        "    f.write('ID\\tfield1\\tfield2\\tfield3\\nTom\\t1\\t3\\t1\\nJohn\\t1\\t3\\t3\\nTom\\t1\\t1\\t1\\nKarl\\t1\\t1\\t2\\nKarl\\t1\\t3\\t2\\nKarl\\t2\\t2\\t2\\nAndy\\t1\\t2\\t3')"
      ],
      "execution_count": null,
      "outputs": []
    },
    {
      "cell_type": "code",
      "metadata": {
        "id": "mRLkqI56ksrU"
      },
      "source": [
        "with open('data2.txt', 'w') as f :\n",
        "    f.write('ID\\tfield1\\tfield2\\tfield3\\nTom\\t2\\t3\\t1\\nJane\\t1\\t1\\t3\\nJane\\t2\\t2\\t1\\nMax\\t3\\t1\\t2\\nKarl\\t1\\t4\\t2\\nMax\\t3\\t2\\t2\\nMax\\t2\\t2\\t1\\nTom\\t2\\t3\\t1\\nJane\\t1\\t1\\t3\\nJane\\t2\\t2\\t1\\nMax\\t3\\t1\\t2\\nKarl\\t1\\t4\\t2\\nMax\\t3\\t2\\t2\\nMax\\t2\\t2\\t1')"
      ],
      "execution_count": null,
      "outputs": []
    },
    {
      "cell_type": "markdown",
      "metadata": {
        "id": "u37LsDnOkXUw"
      },
      "source": [
        "read data"
      ]
    },
    {
      "cell_type": "code",
      "metadata": {
        "id": "ue-M-tW1kZCJ"
      },
      "source": [
        "ids = []\n",
        "with open('ids.txt', 'r') as f :\n",
        "    for line in f :\n",
        "#        print(line)\n",
        "        ids.append(line.strip())"
      ],
      "execution_count": null,
      "outputs": []
    },
    {
      "cell_type": "code",
      "metadata": {
        "colab": {
          "base_uri": "https://localhost:8080/"
        },
        "id": "rGEeuCz4kdVD",
        "outputId": "29ae362c-ef7e-425e-db61-4c69911802e4"
      },
      "source": [
        "ids"
      ],
      "execution_count": null,
      "outputs": [
        {
          "output_type": "execute_result",
          "data": {
            "text/plain": [
              "['ID', 'John', 'Karl', 'Andy', 'Tim']"
            ]
          },
          "metadata": {
            "tags": []
          },
          "execution_count": 78
        }
      ]
    },
    {
      "cell_type": "code",
      "metadata": {
        "colab": {
          "base_uri": "https://localhost:8080/"
        },
        "id": "wLL9YilMkfb7",
        "outputId": "1a1401ca-5c35-4dc6-cd0d-931b46c34df1"
      },
      "source": [
        "%%time\n",
        "\n",
        "ids = []\n",
        "V1s = []\n",
        "with open('data1.txt', 'r', encoding='utf-8') as f :\n",
        "    for item in f :\n",
        "        print(item)\n",
        "        ID, field1, _, _ = item.strip().split()\n",
        "        ids.append(ID)\n",
        "        V1s.append(field1)"
      ],
      "execution_count": null,
      "outputs": [
        {
          "output_type": "stream",
          "text": [
            "ID\tfield1\tfield2\tfield3\n",
            "\n",
            "Tom\t1\t3\t1\n",
            "\n",
            "John\t1\t3\t3\n",
            "\n",
            "Tom\t1\t1\t1\n",
            "\n",
            "Karl\t1\t1\t2\n",
            "\n",
            "Karl\t1\t3\t2\n",
            "\n",
            "Karl\t2\t2\t2\n",
            "\n",
            "Andy\t1\t2\t3\n",
            "CPU times: user 2.68 ms, sys: 0 ns, total: 2.68 ms\n",
            "Wall time: 4.74 ms\n"
          ],
          "name": "stdout"
        }
      ]
    },
    {
      "cell_type": "markdown",
      "metadata": {
        "id": "EnAYcY2pk3Wn"
      },
      "source": [
        "data genterator"
      ]
    },
    {
      "cell_type": "markdown",
      "metadata": {
        "id": "QZ9XwUX1k_Jv"
      },
      "source": [
        "generator from data file"
      ]
    },
    {
      "cell_type": "code",
      "metadata": {
        "id": "8uDX0j-VlBQ6"
      },
      "source": [
        "import sys"
      ],
      "execution_count": null,
      "outputs": []
    },
    {
      "cell_type": "code",
      "metadata": {
        "id": "6jW58fM9k4qJ"
      },
      "source": [
        "fnm = 'data2.txt'"
      ],
      "execution_count": null,
      "outputs": []
    },
    {
      "cell_type": "code",
      "metadata": {
        "id": "L5Bf07bdlF5s"
      },
      "source": [
        "def fgenerator(fnm, iter_option = 0) :\n",
        "    with open(fnm, 'r', encoding='utf-8') as f :\n",
        "        for idx, item in enumerate(f) :\n",
        "            ID, V1, V2, V3 = item.strip().split()\n",
        "            if iter_option == 0 :\n",
        "                yield ID\n",
        "            elif iter_option == 1 :\n",
        "                yield V1\n",
        "            elif iter_option == 2 :\n",
        "                yield V2\n",
        "            else :\n",
        "                yield V3"
      ],
      "execution_count": null,
      "outputs": []
    },
    {
      "cell_type": "code",
      "metadata": {
        "id": "0XTfh3u9lJ1s"
      },
      "source": [
        "gen_from_file = fgenerator(fnm)"
      ],
      "execution_count": null,
      "outputs": []
    },
    {
      "cell_type": "code",
      "metadata": {
        "colab": {
          "base_uri": "https://localhost:8080/",
          "height": 35
        },
        "id": "ek6rDMHZlNDK",
        "outputId": "1f233fb2-1a48-4cbb-eff4-b1e71c804983"
      },
      "source": [
        "next(gen_from_file)"
      ],
      "execution_count": null,
      "outputs": [
        {
          "output_type": "execute_result",
          "data": {
            "application/vnd.google.colaboratory.intrinsic+json": {
              "type": "string"
            },
            "text/plain": [
              "'ID'"
            ]
          },
          "metadata": {
            "tags": []
          },
          "execution_count": 88
        }
      ]
    },
    {
      "cell_type": "code",
      "metadata": {
        "colab": {
          "base_uri": "https://localhost:8080/"
        },
        "id": "JZhvdmdnlPK3",
        "outputId": "496364b5-015e-4031-a7c3-844430185cd6"
      },
      "source": [
        "for i in gen_from_file :\n",
        "  print(i)"
      ],
      "execution_count": null,
      "outputs": [
        {
          "output_type": "stream",
          "text": [
            "Tom\n",
            "Jane\n",
            "Jane\n",
            "Max\n",
            "Karl\n",
            "Max\n",
            "Max\n",
            "Tom\n",
            "Jane\n",
            "Jane\n",
            "Max\n",
            "Karl\n",
            "Max\n",
            "Max\n"
          ],
          "name": "stdout"
        }
      ]
    },
    {
      "cell_type": "code",
      "metadata": {
        "colab": {
          "base_uri": "https://localhost:8080/"
        },
        "id": "tlIVxHJ7lSJz",
        "outputId": "6c39a5ec-152f-4485-9967-e05ea8cff787"
      },
      "source": [
        "sys.getsizeof(gen_from_file)"
      ],
      "execution_count": null,
      "outputs": [
        {
          "output_type": "execute_result",
          "data": {
            "text/plain": [
              "128"
            ]
          },
          "metadata": {
            "tags": []
          },
          "execution_count": 90
        }
      ]
    },
    {
      "cell_type": "code",
      "metadata": {
        "id": "ZrHGuIVQlULY"
      },
      "source": [
        "def freader(fnm, iter_option = 0) :\n",
        "    IDs = []\n",
        "    with open(fnm, 'r', encoding='utf-8') as f :\n",
        "        for idx, item in enumerate(f) :\n",
        "            ID, V1, V2, V3 = item.strip().split()\n",
        "            if iter_option == 0 :\n",
        "                IDs.append(ID)\n",
        "            elif iter_option == 1 :\n",
        "                IDs.append(V1)\n",
        "            elif iter_option == 2 :\n",
        "                IDs.append(V2)\n",
        "            else :\n",
        "                IDs.append(V3)\n",
        "    return IDs"
      ],
      "execution_count": null,
      "outputs": []
    },
    {
      "cell_type": "code",
      "metadata": {
        "colab": {
          "base_uri": "https://localhost:8080/"
        },
        "id": "EmOHGpljlX00",
        "outputId": "034629de-c03b-4cf2-cb01-9defbf648196"
      },
      "source": [
        "%%time\n",
        "res = freader(fnm, 0)"
      ],
      "execution_count": null,
      "outputs": [
        {
          "output_type": "stream",
          "text": [
            "CPU times: user 172 µs, sys: 0 ns, total: 172 µs\n",
            "Wall time: 178 µs\n"
          ],
          "name": "stdout"
        }
      ]
    },
    {
      "cell_type": "code",
      "metadata": {
        "colab": {
          "base_uri": "https://localhost:8080/"
        },
        "id": "svugNc-jlZMA",
        "outputId": "f390eeba-1f82-4465-8eb8-49a68225a149"
      },
      "source": [
        "res"
      ],
      "execution_count": null,
      "outputs": [
        {
          "output_type": "execute_result",
          "data": {
            "text/plain": [
              "['ID',\n",
              " 'Tom',\n",
              " 'Jane',\n",
              " 'Jane',\n",
              " 'Max',\n",
              " 'Karl',\n",
              " 'Max',\n",
              " 'Max',\n",
              " 'Tom',\n",
              " 'Jane',\n",
              " 'Jane',\n",
              " 'Max',\n",
              " 'Karl',\n",
              " 'Max',\n",
              " 'Max']"
            ]
          },
          "metadata": {
            "tags": []
          },
          "execution_count": 94
        }
      ]
    },
    {
      "cell_type": "code",
      "metadata": {
        "colab": {
          "base_uri": "https://localhost:8080/"
        },
        "id": "DedRyxhClbCv",
        "outputId": "dc16b463-9100-4a68-f17c-397aa54c68dd"
      },
      "source": [
        "sys.getsizeof(res)"
      ],
      "execution_count": null,
      "outputs": [
        {
          "output_type": "execute_result",
          "data": {
            "text/plain": [
              "200"
            ]
          },
          "metadata": {
            "tags": []
          },
          "execution_count": 95
        }
      ]
    },
    {
      "cell_type": "markdown",
      "metadata": {
        "id": "JzqNvndUlerT"
      },
      "source": [
        "generator with class"
      ]
    },
    {
      "cell_type": "code",
      "metadata": {
        "id": "Ga1CxBMKlgQp"
      },
      "source": [
        "class DataGenerator() : \n",
        "    def __init__(self, fnm, iter_option=0) :\n",
        "        self.fnm = fnm\n",
        "        self.iter_option = iter_option\n",
        "    \n",
        "    def __iter__(self) :\n",
        "        with open(fnm, 'r', encoding='utf-8') as f :\n",
        "            for idx, item in enumerate(f) :\n",
        "                ID, V1, V2, V3 = item.strip().split()\n",
        "                if self.iter_option == 0 :\n",
        "                    yield ID\n",
        "                elif self.iter_option == 1 :\n",
        "                    yield V1\n",
        "                elif self.iter_option == 2 :\n",
        "                    yield V2\n",
        "                else :\n",
        "                    yield V3\n",
        "    \n",
        "    def __len__(self) :\n",
        "        with open(fnm, 'r', encoding='utf-8') as f :\n",
        "            for idx, item in enumerate(f) :\n",
        "                pass\n",
        "            \n",
        "            return idx"
      ],
      "execution_count": null,
      "outputs": []
    },
    {
      "cell_type": "code",
      "metadata": {
        "id": "qBZy5V0cljlU"
      },
      "source": [
        "fnm = 'data2.txt'"
      ],
      "execution_count": null,
      "outputs": []
    },
    {
      "cell_type": "code",
      "metadata": {
        "id": "TboqExFkllgN"
      },
      "source": [
        "gen1 = DataGenerator(fnm)"
      ],
      "execution_count": null,
      "outputs": []
    },
    {
      "cell_type": "code",
      "metadata": {
        "colab": {
          "base_uri": "https://localhost:8080/"
        },
        "id": "H0aeZik7lmNN",
        "outputId": "ed9a2b4d-f2dd-437c-95d7-8ba4d48dc958"
      },
      "source": [
        "len(gen1)"
      ],
      "execution_count": null,
      "outputs": [
        {
          "output_type": "execute_result",
          "data": {
            "text/plain": [
              "14"
            ]
          },
          "metadata": {
            "tags": []
          },
          "execution_count": 99
        }
      ]
    },
    {
      "cell_type": "code",
      "metadata": {
        "colab": {
          "base_uri": "https://localhost:8080/"
        },
        "id": "Z03iC6Ldlp8X",
        "outputId": "fd41c76f-89c2-41bc-cb78-6b5753e28df6"
      },
      "source": [
        "for idx, item in enumerate(gen1) :\n",
        "    print(item)"
      ],
      "execution_count": null,
      "outputs": [
        {
          "output_type": "stream",
          "text": [
            "ID\n",
            "Tom\n",
            "Jane\n",
            "Jane\n",
            "Max\n",
            "Karl\n",
            "Max\n",
            "Max\n",
            "Tom\n",
            "Jane\n",
            "Jane\n",
            "Max\n",
            "Karl\n",
            "Max\n",
            "Max\n"
          ],
          "name": "stdout"
        }
      ]
    },
    {
      "cell_type": "markdown",
      "metadata": {
        "id": "3Js5JtOPlsBF"
      },
      "source": [
        "numpy library\n",
        "\n",
        "*   NumPy stands for 'Numerical Python' or 'Numeric Python'.\n",
        "*   provides fast mathematical computation on arrays an matrices.\n",
        "\n"
      ]
    },
    {
      "cell_type": "code",
      "metadata": {
        "id": "3OGRFDMrl5xC"
      },
      "source": [
        "import numpy as np"
      ],
      "execution_count": null,
      "outputs": []
    },
    {
      "cell_type": "code",
      "metadata": {
        "id": "wRh6feJVl8Yd"
      },
      "source": [
        "import numpy"
      ],
      "execution_count": null,
      "outputs": []
    },
    {
      "cell_type": "markdown",
      "metadata": {
        "id": "mSfLp2J5l-9e"
      },
      "source": [
        "np.array()"
      ]
    },
    {
      "cell_type": "code",
      "metadata": {
        "id": "2O_WV-IdmA4a"
      },
      "source": [
        "a = np.array([1,2,3,4,5,0]) # usually use np instead of numpy for the short-term.\n",
        "b = [1,2,3,4,5]"
      ],
      "execution_count": null,
      "outputs": []
    },
    {
      "cell_type": "markdown",
      "metadata": {
        "id": "ahYoM6YRmIgk"
      },
      "source": [
        "differences?"
      ]
    },
    {
      "cell_type": "code",
      "metadata": {
        "colab": {
          "base_uri": "https://localhost:8080/"
        },
        "id": "JMnrkZosmKDW",
        "outputId": "a7e4f8e7-bab9-4565-f99f-070cf78e7c81"
      },
      "source": [
        "b+b"
      ],
      "execution_count": null,
      "outputs": [
        {
          "output_type": "execute_result",
          "data": {
            "text/plain": [
              "[1, 2, 3, 4, 5, 1, 2, 3, 4, 5]"
            ]
          },
          "metadata": {
            "tags": []
          },
          "execution_count": 104
        }
      ]
    },
    {
      "cell_type": "code",
      "metadata": {
        "colab": {
          "base_uri": "https://localhost:8080/"
        },
        "id": "T89VVExJmNKw",
        "outputId": "08364f4f-3847-48c3-8c49-161f44299d3a"
      },
      "source": [
        "a+a"
      ],
      "execution_count": null,
      "outputs": [
        {
          "output_type": "execute_result",
          "data": {
            "text/plain": [
              "array([ 2,  4,  6,  8, 10,  0])"
            ]
          },
          "metadata": {
            "tags": []
          },
          "execution_count": 105
        }
      ]
    },
    {
      "cell_type": "code",
      "metadata": {
        "colab": {
          "base_uri": "https://localhost:8080/"
        },
        "id": "UOmrMEd_mQM-",
        "outputId": "477b4431-f5b3-4150-c5d2-4a24647f0e1b"
      },
      "source": [
        "a*a"
      ],
      "execution_count": null,
      "outputs": [
        {
          "output_type": "execute_result",
          "data": {
            "text/plain": [
              "array([ 1,  4,  9, 16, 25,  0])"
            ]
          },
          "metadata": {
            "tags": []
          },
          "execution_count": 106
        }
      ]
    },
    {
      "cell_type": "code",
      "metadata": {
        "colab": {
          "base_uri": "https://localhost:8080/"
        },
        "id": "bOHJ5ZWymQbq",
        "outputId": "c4d58604-df93-4af1-d0e2-bbf1048c539a"
      },
      "source": [
        "a@a"
      ],
      "execution_count": null,
      "outputs": [
        {
          "output_type": "execute_result",
          "data": {
            "text/plain": [
              "55"
            ]
          },
          "metadata": {
            "tags": []
          },
          "execution_count": 107
        }
      ]
    },
    {
      "cell_type": "code",
      "metadata": {
        "colab": {
          "base_uri": "https://localhost:8080/"
        },
        "id": "_293anRXmXeC",
        "outputId": "0db91cf8-240e-49b7-9c7b-d2f75b2a4473"
      },
      "source": [
        "a.shape"
      ],
      "execution_count": null,
      "outputs": [
        {
          "output_type": "execute_result",
          "data": {
            "text/plain": [
              "(6,)"
            ]
          },
          "metadata": {
            "tags": []
          },
          "execution_count": 108
        }
      ]
    },
    {
      "cell_type": "markdown",
      "metadata": {
        "id": "w_zocgV2mZ8W"
      },
      "source": [
        "generating numpy arrays\n",
        "\n",
        "*   np.ones()\n",
        "*   np.zeros()\n",
        "*   np.arrange()\n",
        "*   np.full()\n",
        "\n",
        "\n",
        "\n"
      ]
    },
    {
      "cell_type": "code",
      "metadata": {
        "colab": {
          "base_uri": "https://localhost:8080/"
        },
        "id": "X4lPf4gwmju9",
        "outputId": "794f2e16-e6b1-4d7e-98f1-ef4e7495a6c1"
      },
      "source": [
        "np.ones([2,3])"
      ],
      "execution_count": null,
      "outputs": [
        {
          "output_type": "execute_result",
          "data": {
            "text/plain": [
              "array([[1., 1., 1.],\n",
              "       [1., 1., 1.]])"
            ]
          },
          "metadata": {
            "tags": []
          },
          "execution_count": 109
        }
      ]
    },
    {
      "cell_type": "code",
      "metadata": {
        "colab": {
          "base_uri": "https://localhost:8080/"
        },
        "id": "I8I69Gn9mQwE",
        "outputId": "d8f94655-6573-44e4-a51b-6a4ed162e749"
      },
      "source": [
        "np.zeros([2,2])"
      ],
      "execution_count": null,
      "outputs": [
        {
          "output_type": "execute_result",
          "data": {
            "text/plain": [
              "array([[0., 0.],\n",
              "       [0., 0.]])"
            ]
          },
          "metadata": {
            "tags": []
          },
          "execution_count": 110
        }
      ]
    },
    {
      "cell_type": "code",
      "metadata": {
        "colab": {
          "base_uri": "https://localhost:8080/"
        },
        "id": "aeUgY-8fmoaf",
        "outputId": "73e23518-dd15-4bf9-ffe9-d46527b86f9d"
      },
      "source": [
        "np.arange(1,10)"
      ],
      "execution_count": null,
      "outputs": [
        {
          "output_type": "execute_result",
          "data": {
            "text/plain": [
              "array([1, 2, 3, 4, 5, 6, 7, 8, 9])"
            ]
          },
          "metadata": {
            "tags": []
          },
          "execution_count": 112
        }
      ]
    },
    {
      "cell_type": "code",
      "metadata": {
        "colab": {
          "base_uri": "https://localhost:8080/"
        },
        "id": "kPWMQ10Smoft",
        "outputId": "f5e22a04-bbef-4d0a-be3a-26fe8b3e0cbb"
      },
      "source": [
        "a = np.full([2,3], -1) #2*3 matrix\n",
        "a"
      ],
      "execution_count": null,
      "outputs": [
        {
          "output_type": "execute_result",
          "data": {
            "text/plain": [
              "array([[-1, -1, -1],\n",
              "       [-1, -1, -1]])"
            ]
          },
          "metadata": {
            "tags": []
          },
          "execution_count": 113
        }
      ]
    },
    {
      "cell_type": "code",
      "metadata": {
        "colab": {
          "base_uri": "https://localhost:8080/"
        },
        "id": "PjSZItZdmokQ",
        "outputId": "d8a1d247-97ab-43ac-8475-ba5ba3e12b74"
      },
      "source": [
        "a.T #transpose"
      ],
      "execution_count": null,
      "outputs": [
        {
          "output_type": "execute_result",
          "data": {
            "text/plain": [
              "array([[-1, -1],\n",
              "       [-1, -1],\n",
              "       [-1, -1]])"
            ]
          },
          "metadata": {
            "tags": []
          },
          "execution_count": 114
        }
      ]
    },
    {
      "cell_type": "markdown",
      "metadata": {
        "id": "50OLZdI6mz0B"
      },
      "source": [
        "numpy array indexing"
      ]
    },
    {
      "cell_type": "code",
      "metadata": {
        "colab": {
          "base_uri": "https://localhost:8080/"
        },
        "id": "n-bsrcLEm1zA",
        "outputId": "74d97b9c-507f-4589-ab41-ee0807884c73"
      },
      "source": [
        "a = np.arange(1,10)\n",
        "a"
      ],
      "execution_count": null,
      "outputs": [
        {
          "output_type": "execute_result",
          "data": {
            "text/plain": [
              "array([1, 2, 3, 4, 5, 6, 7, 8, 9])"
            ]
          },
          "metadata": {
            "tags": []
          },
          "execution_count": 115
        }
      ]
    },
    {
      "cell_type": "code",
      "metadata": {
        "colab": {
          "base_uri": "https://localhost:8080/"
        },
        "id": "qjx1Ptnbm15r",
        "outputId": "f27b0915-0d08-4027-e36d-ce5f65ff4e9c"
      },
      "source": [
        "a[:-3] #맨 뒤 3개 빼고 앞에꺼 전부 나열"
      ],
      "execution_count": null,
      "outputs": [
        {
          "output_type": "execute_result",
          "data": {
            "text/plain": [
              "array([1, 2, 3, 4, 5, 6])"
            ]
          },
          "metadata": {
            "tags": []
          },
          "execution_count": 116
        }
      ]
    },
    {
      "cell_type": "code",
      "metadata": {
        "colab": {
          "base_uri": "https://localhost:8080/"
        },
        "id": "7ggY27Ddm1_L",
        "outputId": "e7f12db2-7bf3-45c3-ad0a-2e2bae44852f"
      },
      "source": [
        "a[-3:] #맨 뒤 3개 나열"
      ],
      "execution_count": null,
      "outputs": [
        {
          "output_type": "execute_result",
          "data": {
            "text/plain": [
              "array([7, 8, 9])"
            ]
          },
          "metadata": {
            "tags": []
          },
          "execution_count": 117
        }
      ]
    },
    {
      "cell_type": "code",
      "metadata": {
        "colab": {
          "base_uri": "https://localhost:8080/"
        },
        "id": "MvpUpE_Pm2IA",
        "outputId": "a338bfc8-1055-4d5f-b1f6-d268a51ba191"
      },
      "source": [
        "a[2:5]"
      ],
      "execution_count": null,
      "outputs": [
        {
          "output_type": "execute_result",
          "data": {
            "text/plain": [
              "array([3, 4, 5])"
            ]
          },
          "metadata": {
            "tags": []
          },
          "execution_count": 118
        }
      ]
    },
    {
      "cell_type": "code",
      "metadata": {
        "colab": {
          "base_uri": "https://localhost:8080/"
        },
        "id": "rs0cwAfHm2RP",
        "outputId": "fb06b82a-d2e9-4eb1-90b5-43d872f86851"
      },
      "source": [
        "a[0:10:2]"
      ],
      "execution_count": null,
      "outputs": [
        {
          "output_type": "execute_result",
          "data": {
            "text/plain": [
              "array([1, 3, 5, 7, 9])"
            ]
          },
          "metadata": {
            "tags": []
          },
          "execution_count": 119
        }
      ]
    },
    {
      "cell_type": "code",
      "metadata": {
        "colab": {
          "base_uri": "https://localhost:8080/"
        },
        "id": "zjK8ejVUnBs3",
        "outputId": "65c6697f-4e1c-4d74-e3fe-26c3fa0d53af"
      },
      "source": [
        "b = np.arange(0,10).reshape(2,5)\n",
        "b"
      ],
      "execution_count": null,
      "outputs": [
        {
          "output_type": "execute_result",
          "data": {
            "text/plain": [
              "array([[0, 1, 2, 3, 4],\n",
              "       [5, 6, 7, 8, 9]])"
            ]
          },
          "metadata": {
            "tags": []
          },
          "execution_count": 120
        }
      ]
    },
    {
      "cell_type": "code",
      "metadata": {
        "colab": {
          "base_uri": "https://localhost:8080/"
        },
        "id": "MVrcHQDdnBzL",
        "outputId": "a45a8e9b-ad29-40a4-bcd5-42f26785fa8e"
      },
      "source": [
        "b[:,2:]"
      ],
      "execution_count": null,
      "outputs": [
        {
          "output_type": "execute_result",
          "data": {
            "text/plain": [
              "array([[2, 3, 4],\n",
              "       [7, 8, 9]])"
            ]
          },
          "metadata": {
            "tags": []
          },
          "execution_count": 121
        }
      ]
    },
    {
      "cell_type": "markdown",
      "metadata": {
        "id": "nCdtXTVXnhzd"
      },
      "source": [
        "useful np functions\n",
        "\n",
        "*   np.abs()\n",
        "*   np.exp()\n",
        "*   np.pow()\n",
        "*   np.log()\n",
        "*   np.sqrt()"
      ]
    },
    {
      "cell_type": "code",
      "metadata": {
        "colab": {
          "base_uri": "https://localhost:8080/"
        },
        "id": "MO_h0Rzxnwe_",
        "outputId": "4e92ee73-ab93-45d1-fa99-fc314fa5395f"
      },
      "source": [
        "a = np.arange(-3,5)\n",
        "a"
      ],
      "execution_count": null,
      "outputs": [
        {
          "output_type": "execute_result",
          "data": {
            "text/plain": [
              "array([-3, -2, -1,  0,  1,  2,  3,  4])"
            ]
          },
          "metadata": {
            "tags": []
          },
          "execution_count": 122
        }
      ]
    },
    {
      "cell_type": "code",
      "metadata": {
        "colab": {
          "base_uri": "https://localhost:8080/"
        },
        "id": "4AUM-o8Gn1CC",
        "outputId": "5fca89d9-f09c-4813-ab7d-d26af17a042a"
      },
      "source": [
        "np.abs(a)"
      ],
      "execution_count": null,
      "outputs": [
        {
          "output_type": "execute_result",
          "data": {
            "text/plain": [
              "array([3, 2, 1, 0, 1, 2, 3, 4])"
            ]
          },
          "metadata": {
            "tags": []
          },
          "execution_count": 123
        }
      ]
    },
    {
      "cell_type": "code",
      "metadata": {
        "colab": {
          "base_uri": "https://localhost:8080/"
        },
        "id": "gSGIYJCnn1UC",
        "outputId": "1c3e7ac0-1777-4e16-a8f4-674f31a4b940"
      },
      "source": [
        "np.exp(a)"
      ],
      "execution_count": null,
      "outputs": [
        {
          "output_type": "execute_result",
          "data": {
            "text/plain": [
              "array([4.97870684e-02, 1.35335283e-01, 3.67879441e-01, 1.00000000e+00,\n",
              "       2.71828183e+00, 7.38905610e+00, 2.00855369e+01, 5.45981500e+01])"
            ]
          },
          "metadata": {
            "tags": []
          },
          "execution_count": 124
        }
      ]
    },
    {
      "cell_type": "code",
      "metadata": {
        "colab": {
          "base_uri": "https://localhost:8080/"
        },
        "id": "-VQtk-9Kn1ea",
        "outputId": "886236fe-d460-4430-ae1e-a92dd5bbaf1e"
      },
      "source": [
        "np.power(a,2)"
      ],
      "execution_count": null,
      "outputs": [
        {
          "output_type": "execute_result",
          "data": {
            "text/plain": [
              "array([ 9,  4,  1,  0,  1,  4,  9, 16])"
            ]
          },
          "metadata": {
            "tags": []
          },
          "execution_count": 125
        }
      ]
    },
    {
      "cell_type": "code",
      "metadata": {
        "colab": {
          "base_uri": "https://localhost:8080/"
        },
        "id": "EQ8n7u2zn1lE",
        "outputId": "69c033a5-76c8-4fe4-f299-facc53b29167"
      },
      "source": [
        "np.log( np.array([2,4,8]))"
      ],
      "execution_count": null,
      "outputs": [
        {
          "output_type": "execute_result",
          "data": {
            "text/plain": [
              "array([0.69314718, 1.38629436, 2.07944154])"
            ]
          },
          "metadata": {
            "tags": []
          },
          "execution_count": 126
        }
      ]
    },
    {
      "cell_type": "code",
      "metadata": {
        "colab": {
          "base_uri": "https://localhost:8080/"
        },
        "id": "GjL-Xizjn_eh",
        "outputId": "e73aabed-4970-4cc6-abf1-c7e6fd46979b"
      },
      "source": [
        "np.log2( np.array([2,4,8]))"
      ],
      "execution_count": null,
      "outputs": [
        {
          "output_type": "execute_result",
          "data": {
            "text/plain": [
              "array([1., 2., 3.])"
            ]
          },
          "metadata": {
            "tags": []
          },
          "execution_count": 127
        }
      ]
    },
    {
      "cell_type": "markdown",
      "metadata": {
        "id": "d0rj2v4aoDcN"
      },
      "source": [
        "statistics"
      ]
    },
    {
      "cell_type": "code",
      "metadata": {
        "colab": {
          "base_uri": "https://localhost:8080/"
        },
        "id": "nQGeTCJvoEqx",
        "outputId": "f3df6669-b8bd-444f-b586-70a8318a81ec"
      },
      "source": [
        "a"
      ],
      "execution_count": null,
      "outputs": [
        {
          "output_type": "execute_result",
          "data": {
            "text/plain": [
              "array([-3, -2, -1,  0,  1,  2,  3,  4])"
            ]
          },
          "metadata": {
            "tags": []
          },
          "execution_count": 128
        }
      ]
    },
    {
      "cell_type": "code",
      "metadata": {
        "colab": {
          "base_uri": "https://localhost:8080/"
        },
        "id": "I91w1mpdoF-W",
        "outputId": "4e8dc334-c48b-4c52-b23c-c3f37c6b02c5"
      },
      "source": [
        "np.mean(a)"
      ],
      "execution_count": null,
      "outputs": [
        {
          "output_type": "execute_result",
          "data": {
            "text/plain": [
              "0.5"
            ]
          },
          "metadata": {
            "tags": []
          },
          "execution_count": 129
        }
      ]
    },
    {
      "cell_type": "code",
      "metadata": {
        "colab": {
          "base_uri": "https://localhost:8080/"
        },
        "id": "_rRjB62roGLM",
        "outputId": "31389347-a56d-48b4-d00a-7cb6cc71ff6b"
      },
      "source": [
        "np.median(a)"
      ],
      "execution_count": null,
      "outputs": [
        {
          "output_type": "execute_result",
          "data": {
            "text/plain": [
              "0.5"
            ]
          },
          "metadata": {
            "tags": []
          },
          "execution_count": 130
        }
      ]
    },
    {
      "cell_type": "code",
      "metadata": {
        "colab": {
          "base_uri": "https://localhost:8080/"
        },
        "id": "-kIArMN6oGXi",
        "outputId": "9bddf4a2-7d64-49bd-f2c4-9c4c813d9965"
      },
      "source": [
        "np.std(a)"
      ],
      "execution_count": null,
      "outputs": [
        {
          "output_type": "execute_result",
          "data": {
            "text/plain": [
              "2.29128784747792"
            ]
          },
          "metadata": {
            "tags": []
          },
          "execution_count": 131
        }
      ]
    }
  ]
}